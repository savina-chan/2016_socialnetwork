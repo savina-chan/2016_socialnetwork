{
 "cells": [
  {
   "cell_type": "code",
   "execution_count": null,
   "metadata": {
    "collapsed": true
   },
   "outputs": [],
   "source": [
    "# Box plot (distribution #comment)"
   ]
  },
  {
   "cell_type": "code",
   "execution_count": null,
   "metadata": {
    "collapsed": false
   },
   "outputs": [],
   "source": [
    "import pyes\n",
    "import json\n",
    "import numpy as np\n",
    "import pandas as pd\n",
    "import datetime\n",
    "import matplotlib.pyplot as plt\n",
    "from bokeh.charts import BoxPlot,Bar, show\n",
    "\n",
    "def NumofPostPerMonth(fids,host,pngFilePath):\n",
    "    data = []\n",
    "    for fid in fids:\n",
    "        conn = pyes.es.ES(host)\n",
    "        tq = pyes.query.TermQuery(field=\"fid\", value=fid)\n",
    "        tagg = pyes.aggs.TermsAgg('pid', field= 'fid_pid')\n",
    "        qsearch = pyes.query.Search(tq) \n",
    "        qsearch.agg.add(tagg) \n",
    "        result = conn.search(query=qsearch , indices='facebook_nested' , doc_types='comment')\n",
    "        for fidpid_summary in result.aggs[\"pid\"][\"buckets\"]:\n",
    "            if fidpid_summary[\"doc_count\"] < outlierFilter or outlierFilter < 0:\n",
    "                data.append([fidpid_summary[\"doc_count\"],fid,fidpid_summary[\"key\"]])\n",
    "\n",
    "    \n",
    "        df=pd.DataFrame(data,columns={'count','fidpid','fid'})\n",
    "    print df\n",
    "####figure\n",
    "    p = BoxPlot(df, values='count', label='fid', legend=None,  title='Distribution of # of comments')\n",
    "    show(p)\n",
    "\n",
    "    \n",
    "host = '127.0.0.1:9200'\n",
    "outlierFilter=5000\n",
    "\n",
    "fid = [\"154929428406\",'100489613340306','115361891807579']\n",
    "\n",
    "NumofPostPerMonth(fid,host,outlierFilter)"
   ]
  },
  {
   "cell_type": "code",
   "execution_count": null,
   "metadata": {
    "collapsed": true
   },
   "outputs": [],
   "source": [
    "#post per month for specified page"
   ]
  },
  {
   "cell_type": "code",
   "execution_count": null,
   "metadata": {
    "collapsed": true
   },
   "outputs": [],
   "source": [
    "import pyes\n",
    "import json\n",
    "import numpy as np\n",
    "import pandas as pd\n",
    "import datetime\n",
    "import matplotlib.pyplot as plt\n",
    "from bokeh.charts import BoxPlot,Bar, show\n",
    "\n",
    "def barNumofPostPerMonth(fid,host,lowerbound,upperbound):\n",
    "    conn = pyes.es.ES(host)\n",
    "    tq = pyes.query.TermQuery(field=\"fid\", value=fid)\n",
    "    DHAgg = pyes.aggs.DateHistogramAgg('month' ,field='created_time', interval='month',sub_aggs=[])\n",
    "    tagg = pyes.aggs.TermsAgg('pid', field= 'fid_pid')\n",
    "    DHAgg.sub_aggs.append(tagg) \n",
    "    qsearch = pyes.query.Search(tq) \n",
    "    qsearch.agg.add(DHAgg) \n",
    "    result = conn.search(query=qsearch , indices='facebook_nested' , doc_types='comment')\n",
    "    i=0\n",
    "    data=[]\n",
    "    for r in result.aggs[\"month\"][\"buckets\"]:\n",
    "        monthyear=datetime.datetime.strptime(r[\"key_as_string\"], \"%Y-%m-%dT%H:%M:%S.%fZ\").strftime('%Y-%m')\n",
    "        data.append([len(r['pid']['buckets']),monthyear])  \n",
    "        \n",
    "    \n",
    "    df=pd.DataFrame(data,columns={'count','date'}) \n",
    "    print data\n",
    "####figure\n",
    "    p = Bar(df, values='count', label='date', legend=None,\n",
    "        xlabel='Month', ylabel='# of post', title=fid+'-Monthly post')\n",
    "    show(p)\n",
    "\n",
    "    \n",
    "host = '127.0.0.1:9200'\n",
    "lower_bound = 0\n",
    "upper_bound = 500\n",
    "\n",
    "fid1 = '154929428406'     \n",
    "fid2 = '100489613340306'  \n",
    "fid3 = '115361891807579'\n",
    "\n",
    "barNumofPostPerMonth(fid1,host,lower_bound,upper_bound)"
   ]
  },
  {
   "cell_type": "code",
   "execution_count": null,
   "metadata": {
    "collapsed": true
   },
   "outputs": [],
   "source": [
    "#likes_count"
   ]
  },
  {
   "cell_type": "code",
   "execution_count": null,
   "metadata": {
    "collapsed": true
   },
   "outputs": [],
   "source": [
    "import pyes\n",
    "import json\n",
    "import numpy as np\n",
    "import pandas as pd\n",
    "import datetime\n",
    "import matplotlib.pyplot as plt\n",
    "from bokeh.charts import BoxPlot,Bar, show\n",
    "\n",
    "host = '127.0.0.1:9200'\n",
    "\n",
    "fid1 = '154929428406'     #1922\n",
    "fid2 = '100489613340306'  #Samsung Mobile Taiwan\n",
    "fid3 = '115361891807579'  #Domino's Pizza Taiwan\n",
    "\n",
    "fid = [\"154929428406\",'100489613340306','115361891807579']\n",
    "\n",
    "def bb(fids):\n",
    "    data=[]\n",
    "    for fid in fids:\n",
    "        conn = pyes.es.ES(host)\n",
    "        tq = pyes.query.TermQuery(field=\"fid\", value=fid)\n",
    "        qsearch = pyes.query.Search(tq)  \n",
    "        result = conn.search(query=qsearch , indices='facebook_nested' , doc_types='fanpage')\n",
    "\n",
    "        \n",
    "        data.append([fid,result[0]['likes_count']])\n",
    "\n",
    "    df=pd.DataFrame(data,columns={'fid','likes_count'})\n",
    "    print df\n",
    "    p = Bar(df, values='likes_count', label='fid', legend=None,\n",
    "    xlabel='Fid', ylabel='# of likes', title='Likes of Fanpages')\n",
    "    show(p)\n",
    "\n",
    "bb(fid)"
   ]
  },
  {
   "cell_type": "code",
   "execution_count": null,
   "metadata": {
    "collapsed": true
   },
   "outputs": [],
   "source": [
    "# # of comment - PostTime"
   ]
  },
  {
   "cell_type": "code",
   "execution_count": null,
   "metadata": {
    "collapsed": true
   },
   "outputs": [],
   "source": [
    "import pyes\n",
    "import json\n",
    "import numpy as np\n",
    "import pandas as pd\n",
    "import datetime\n",
    "from bokeh.charts import BoxPlot,Bar, show\n",
    "\n",
    "def AGG(fids):\n",
    "    data = []\n",
    "    for fid in fids:\n",
    "        conn = pyes.es.ES(host)\n",
    "        tq = pyes.query.TermQuery(field=\"fid\", value=fid)\n",
    "        #tagg = pyes.aggs.TermsAgg('mes', field= 'message')\n",
    "        qsearch = pyes.query.Search(tq) \n",
    "        #qsearch.agg.add(tagg) \n",
    "        result = conn.search(query=qsearch , indices='facebook_nested' , doc_types='post')\n",
    "    \n",
    "        for i in range(len(result)):\n",
    "            T = datetime.datetime.fromtimestamp(int(str(result[i][\"created_at_linux_timestamp\"])[:-3])).strftime('%w')\n",
    "            #print T\n",
    "            data.append([T,result[i][\"comment_count\"],fid])\n",
    "\n",
    "\n",
    "    df=pd.DataFrame(data,columns={'comment_count','date','group'})\n",
    "\n",
    "    p = Bar(df, values='comment_count', label='date', group='group',\n",
    "    xlabel='Date', ylabel='# of comment', legend='top_right',title='# of comment-PostTime(week)')\n",
    "    show(p)\n",
    "\n",
    "host = '127.0.0.1:9200'\n",
    "\n",
    "fid = [\"154929428406\",'100489613340306','115361891807579']\n",
    "\n",
    "AGG(fid)"
   ]
  },
  {
   "cell_type": "code",
   "execution_count": null,
   "metadata": {
    "collapsed": true
   },
   "outputs": [],
   "source": []
  }
 ],
 "metadata": {
  "kernelspec": {
   "display_name": "Python [Root]",
   "language": "python",
   "name": "Python [Root]"
  },
  "language_info": {
   "codemirror_mode": {
    "name": "ipython",
    "version": 2
   },
   "file_extension": ".py",
   "mimetype": "text/x-python",
   "name": "python",
   "nbconvert_exporter": "python",
   "pygments_lexer": "ipython2",
   "version": "2.7.12"
  }
 },
 "nbformat": 4,
 "nbformat_minor": 0
}
